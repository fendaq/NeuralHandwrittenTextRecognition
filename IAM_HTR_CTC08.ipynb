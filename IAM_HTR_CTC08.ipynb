{
 "cells": [
  {
   "cell_type": "code",
   "execution_count": 1,
   "metadata": {},
   "outputs": [],
   "source": [
    "import matplotlib.pyplot as plt\n",
    "\n",
    "from IPython.display import display\n",
    "\n",
    "from tqdm import tqdm_notebook\n",
    "\n",
    "import math\n",
    "import numpy as np\n",
    "import time\n",
    "\n",
    "from PIL import Image\n",
    "\n",
    "import torch\n",
    "from torch import nn\n",
    "from torch import optim\n",
    "from torch.autograd import Variable\n",
    "import torchvision.transforms as transforms\n",
    "\n",
    "from warpctc_pytorch import CTCLoss\n",
    "\n",
    "from lib.utilities import HYPERPARAMETERS, Metric, torch_weight_init, print_model_summary, DelayedKeyboardInterrupt, \\\n",
    "    plot_learning_curves, visualize_data, SequenceWise\n",
    "from lib.vocabulary import Vocabulary\n",
    "from lib.dataloader import DataArgumentation, FromNumpyToTensor, IAMHandwritingDataset, alignCollate, ResizeAndPad\n",
    "from lib.checkpoint import Checkpoint\n",
    "from lib.model_crnn import CRNN\n",
    "from lib.decoder import CTCGreedyDecoder\n",
    "from lib.stopping import Stopping\n",
    "from lib.logger import PytorchLogger, TensorboardLogger\n",
    "from lib.spelling import Spelling\n",
    "from lib.trainer import Trainer\n",
    "from lib.evaluator import Evaluator\n",
    "from lib.recognizer import Recognizer\n",
    "from lib.scorer import Scorer, SpellingScorer, ScorerSM, ScorerLEV"
   ]
  },
  {
   "cell_type": "code",
   "execution_count": 2,
   "metadata": {},
   "outputs": [],
   "source": [
    "#torch.cuda.is_available = lambda : False\n",
    "#torch.backends.cudnn.enabled=False\n",
    "torch.backends.cudnn.deterministic = True\n",
    "#torch.backends.cudnn.benchmark = True"
   ]
  },
  {
   "cell_type": "code",
   "execution_count": 3,
   "metadata": {},
   "outputs": [],
   "source": [
    "seed = 0\n",
    "np.random.seed(0)\n",
    "torch.manual_seed(seed)\n",
    "if torch.cuda.is_available():\n",
    "    torch.cuda.manual_seed(seed)"
   ]
  },
  {
   "cell_type": "code",
   "execution_count": 4,
   "metadata": {},
   "outputs": [],
   "source": [
    "H = HYPERPARAMETERS({\n",
    "    'MODEL_PATH': './chkpt/IAM_HTR_CTC08.tar',\n",
    "    'ROOT_DIR': './data',\n",
    "    'EXPERIMENT': 'IAM_HTR_CTC08',\n",
    "    'BATCH_SIZE': 16,\n",
    "    'HEIGHT': 64,\n",
    "    'PADDING': 10,\n",
    "    'NUM_WORKERS': 8,\n",
    "    'HIDDEN_SIZE': 256,\n",
    "    'NUM_LAYERS': 2,\n",
    "    'RNN_DROPOUT': 0.5,\n",
    "    'LR': 0.0003,\n",
    "    'LR_LAMBDA': lambda epoch: max(math.pow(0.78, math.floor((1 + epoch) / 11.0)), 0.4),\n",
    "    'WEIGHT_DECAY': 0,\n",
    "    'MAX_GRAD_NORM': 5.,\n",
    "    'ARGUMENTATION': 0.9,\n",
    "    'STOPPING_PATIENCE': 10,\n",
    "    'NUM_EPOCHS': 20,\n",
    "    \n",
    "    'CHECKPOINT_FILE': 'IAM_HTR_CTC08',\n",
    "    'CHECKPOINT_INTERVAL': 5,\n",
    "    'CHECKPOINT_RESTORE': False,\n",
    "    \n",
    "    'USE_CUDA': torch.cuda.is_available(),\n",
    "})"
   ]
  },
  {
   "cell_type": "code",
   "execution_count": 5,
   "metadata": {},
   "outputs": [
    {
     "data": {
      "image/png": "[encoded data removed]",
      "text/plain": [
       "<matplotlib.figure.Figure at 0x1bb397940>"
      ]
     },
     "metadata": {},
     "output_type": "display_data"
    }
   ],
   "source": [
    "#https://research.fb.com/wp-content/uploads/2017/06/imagenet1kin1h5.pdf?\n",
    "\n",
    "max_epochs = H.NUM_EPOCHS\n",
    "epts = np.linspace(1, max_epochs+1, max_epochs)\n",
    "step_decay_out = np.vectorize(H.LR_LAMBDA)(epts) * H.LR\n",
    "\n",
    "plt.figure(figsize=(7,6))\n",
    "plt.plot(epts,step_decay_out, label='step_decay_out', color='y')\n",
    "plt.title(\"LR Decay Functions\")\n",
    "plt.xlabel(\"Epochs\");\n",
    "plt.ylabel(\"LR\");\n",
    "plt.grid(True)\n",
    "plt.legend(loc='upper right');"
   ]
  },
  {
   "cell_type": "code",
   "execution_count": 6,
   "metadata": {},
   "outputs": [],
   "source": [
    "# # IAMHandwritingDataset.create('./data/IAM/')\n",
    "# vocab = Vocabulary(\"./data/IAM/\")\n",
    "# train_dataset = IAMHandwritingDataset('./data/IAM/', vocab, dataset=\"train\")\n",
    "# len(train_dataset.annotations[0]['transcript'])\n",
    "# train_dataset.annotations[0]['transcript']\n",
    "# d = {}\n",
    "# for ann in train_dataset.annotations:\n",
    "#     for c in ann['transcript']:\n",
    "#         d[c] = 1 if not c in d else d[c] + 1\n",
    "# vocab.create(sorted(list(d.keys())))\n",
    "# vocab.dump()"
   ]
  },
  {
   "cell_type": "code",
   "execution_count": 7,
   "metadata": {},
   "outputs": [],
   "source": [
    "import os\n",
    "import json\n",
    "\n",
    "class Vocabulary(object):\n",
    "    def __init__(self, root_dir, structure='lines', architecture=\"ctc\"):\n",
    "        self.root_dir = root_dir\n",
    "        self.structure = structure         # 'lines', 'words'\n",
    "        self.architecture = architecture   # 'ctc', 'seq'\n",
    "\n",
    "        self.token2idx = {}\n",
    "        self.idx2token = {}\n",
    "        self.idx = 0\n",
    "        self.path = os.path.join(self.root_dir, 'vocab_'+ self.structure + '.json')\n",
    "\n",
    "        if self.architecture == 'ctc':\n",
    "            self.add(chr(1)) # extra output dimension for the BLANK label required for CTC loss\n",
    "        else:\n",
    "            self.add(chr(0)) \n",
    "            \n",
    "    def add(self, token):\n",
    "        if not token in self.token2idx:\n",
    "            self.token2idx[token] = self.idx\n",
    "            self.idx2token[self.idx] = token\n",
    "            self.idx += 1\n",
    "\n",
    "    def __call__(self, val):\n",
    "        res = None\n",
    "        if isinstance(val, str):\n",
    "            res = self.token2idx[val] if val in self.token2idx else self.token2idx['']\n",
    "        elif isinstance(val, int):\n",
    "            res = self.idx2token[val] if val <= self.__len__() else self.token2idx['']\n",
    "        else:\n",
    "            raise RuntimeError\n",
    "        return res\n",
    "\n",
    "    def __len__(self):\n",
    "        return len(self.token2idx)\n",
    "\n",
    "    def create(self, alphabet):\n",
    "        for c in alphabet:\n",
    "            self.add(c)\n",
    "\n",
    "    def dump(self):\n",
    "        data = {'idx': self.idx, 'token2idx':self.token2idx, 'idx2token':self.idx2token}\n",
    "        with open(self.path, \"w\") as fd:\n",
    "            json.dump(data, fd)\n",
    "\n",
    "    def load(self):\n",
    "        with open(self.path, \"r\") as fd:\n",
    "            data = json.load(fd)\n",
    "            self.idx = int(data['idx'])\n",
    "            self.token2idx = data['token2idx']\n",
    "            self.idx2token = {int(k):v for k,v in data['idx2token'].items()}\n",
    "            \n",
    "        if self.architecture == 'seq':\n",
    "            self.add('<SOS>')\n",
    "            self.add('<EOS>')\n",
    "            self.add('<UNK>')\n",
    "\n",
    "    def __repr__(self):\n",
    "        return ''.join(list(self.token2idx.keys()))"
   ]
  },
  {
   "cell_type": "code",
   "execution_count": 8,
   "metadata": {},
   "outputs": [
    {
     "data": {
      "text/plain": [
       "(\u0000 !\"#&'()*+,-./0123456789:;?ABCDEFGHIJKLMNOPQRSTUVWXYZabcdefghijklmnopqrstuvwxyz,\n",
       " 80)"
      ]
     },
     "execution_count": 8,
     "metadata": {},
     "output_type": "execute_result"
    }
   ],
   "source": [
    "vocab = Vocabulary(\"./data/IAM/\")\n",
    "vocab.load()\n",
    "vocab, len(vocab)"
   ]
  },
  {
   "cell_type": "code",
   "execution_count": 9,
   "metadata": {},
   "outputs": [],
   "source": [
    "# class DataArgumentation(object):\n",
    "#     def __init__(self, threshold=0.5):\n",
    "#         self.threshold = threshold\n",
    "\n",
    "#     def __call__(self, img):\n",
    "#         if random.random() < self.threshold:\n",
    "#             img = np.array(img)\n",
    "#             img = img.reshape(1, img.shape[0], img.shape[1])\n",
    "\n",
    "# #             img = prepro.rotation(img, 5, is_random=True, row_index=1, col_index=2, channel_index=0)\n",
    "#             img = prepro.shift(img, 0.01, 0.04, is_random=True, row_index=1, col_index=2, channel_index=0)\n",
    "# #             img = prepro.shear(img, intensity=0.1, is_random=True, row_index=1, col_index=2, channel_index=0)\n",
    "# #             img = prepro.zoom(img, (1.0, 1.2), is_random=True, row_index=1, col_index=2, channel_index=0)\n",
    "\n",
    "#             img = prepro.elastic_transform(img.squeeze(0), is_random=True, alpha=5.5, sigma=35, cval=0.0)\n",
    "\n",
    "#             img = Image.fromarray(img)\n",
    "#         return img"
   ]
  },
  {
   "cell_type": "code",
   "execution_count": 10,
   "metadata": {},
   "outputs": [],
   "source": [
    "import os\n",
    "from glob import glob\n",
    "from os.path import basename\n",
    "\n",
    "import json\n",
    "import random\n",
    "import numpy as np\n",
    "import re\n",
    "import math\n",
    "\n",
    "import PIL\n",
    "from PIL import Image\n",
    "\n",
    "import torch\n",
    "import torch.utils.data as data\n",
    "import torchvision.transforms as transforms\n",
    "\n",
    "import tensorlayer.prepro as prepro\n",
    "\n",
    "class IAMHandwritingDataset(data.Dataset):\n",
    "    \"\"\"IAM Handwriting Database ( http://www.fki.inf.unibe.ch/databases/iam-handwriting-database )\"\"\"\n",
    "\n",
    "    def __init__(self, root, vocab, dataset, structure, \n",
    "                 transform=None, target_transform=None, max_size=None):\n",
    "        self.root = root\n",
    "        self.vocab = vocab\n",
    "        self.dataset = dataset\n",
    "        self.structure = structure         # 'lines', 'words'\n",
    "        self.transform = transform\n",
    "        self.target_transform = target_transform\n",
    "        self.max_size = max_size\n",
    "\n",
    "\n",
    "        self.annotations = []\n",
    "        self.max_seq_length = 0\n",
    "        self.index = []\n",
    "\n",
    "        self.annotations, self.max_seq_length = self.load_annotations(self.root, self.dataset, \n",
    "                                                                      self.structure)\n",
    "        self.index = self.load_index(self.root, structure)\n",
    "\n",
    "        if isinstance(self.max_size, int):\n",
    "\n",
    "            assert self.max_size < len(self.annotations) # max_train_size needs to select a subset\n",
    "\n",
    "            self.annotations = random.sample(self.annotations, self.max_size)\n",
    "\n",
    "    def __getitem__(self, index):\n",
    "        annotation = self.annotations[index]\n",
    "        anid = annotation['anid']\n",
    "        path = self.index[anid]\n",
    "\n",
    "        image = Image.open(path).convert('L')\n",
    "        if self.transform is not None:\n",
    "            image = self.transform(image)\n",
    "\n",
    "        target = annotation['transcript']\n",
    "        if vocab.architecture == 'seq':\n",
    "            target = [self.vocab(\"<SOS>\")] + [self.vocab(token) for token in target] + [self.vocab('<EOS>')]\n",
    "        else:\n",
    "            target = [self.vocab(token) for token in target]\n",
    "        target = np.array(target)\n",
    "\n",
    "        if self.target_transform is not None:\n",
    "            target = self.target_transform(target)\n",
    "\n",
    "        return image, target\n",
    "\n",
    "    def __len__(self):\n",
    "        return len(self.annotations)\n",
    "\n",
    "    @classmethod\n",
    "    def create(cls, root, structure='lines', partition='aachen'):\n",
    "        path = os.path.join(root, 'part', structure, partition, 'tr.txt')\n",
    "        with open(path, 'r') as infile:\n",
    "            trainset = {v.strip() for v in infile.readlines()}\n",
    "\n",
    "        try:\n",
    "            path = os.path.join(root, 'part', structure, partition, 'va.txt')\n",
    "            with open(path , 'r') as infile:\n",
    "                validationset1 = {v.strip() for v in infile.readlines()}\n",
    "                validationset2 = {}\n",
    "        except:\n",
    "            try:\n",
    "                path = os.path.join(root, 'part', structure, partition, 'va1.txt')\n",
    "                with open(path , 'r') as infile:\n",
    "                    validationset1 = {v.strip() for v in infile.readlines()}\n",
    "                \n",
    "                path = os.path.join(root, 'part', structure, partition, 'va2.txt')\n",
    "                with open(path, 'r') as infile:\n",
    "                    validationset2 = {v.strip() for v in infile.readlines()}\n",
    "            except:\n",
    "                raise RuntimeError('Dataset files not found.')\n",
    "\n",
    "        path = os.path.join(root, 'part', structure, partition, 'te.txt')\n",
    "        with open(path, 'r') as infile:\n",
    "            testset = {v.strip() for v in infile.readlines()}\n",
    "            \n",
    "        file_index = cls.load_index(root, structure)\n",
    "\n",
    "        path = os.path.join(root, 'ascii', structure + '.txt')\n",
    "\n",
    "        annotations = []\n",
    "        max_seq_length = 0\n",
    "        with open(path, \"r\") as fd:\n",
    "            for idx, line in enumerate(fd.readlines()):\n",
    "                if '#' in line[0]:\n",
    "                    continue\n",
    "                fields = line.rstrip().split(\" \")\n",
    "\n",
    "                transcript = fields[8]\n",
    "                # transcript field has whitespaces in it - need to fix the erroneous splits\n",
    "                if len(fields) > 9:\n",
    "                    for i in range(9, len(fields)):\n",
    "                        transcript += fields[i]\n",
    "\n",
    "                if structure == 'lines':\n",
    "                    # replace | seperator with whitespace\n",
    "                    transcript = transcript.replace(\"|\", \" \")\n",
    "\n",
    "                l = len(transcript)\n",
    "                if not l:\n",
    "                    continue\n",
    "\n",
    "                if l > max_seq_length:\n",
    "                    max_seq_length = l\n",
    "\n",
    "                if structure == 'lines':\n",
    "                    annotation={\n",
    "                        'anid': fields[0],\n",
    "                        'seg_result': fields[1],\n",
    "                        'graylevel': fields[2],\n",
    "                        'components': fields[3],\n",
    "                        'bounding_box':[fields[4], fields[5], fields[6], fields[7]],\n",
    "                        'transcript': transcript\n",
    "                    }\n",
    "                else:\n",
    "                    annotation={\n",
    "                        'anid': fields[0],\n",
    "                        'seg_result': fields[1],\n",
    "                        'graylevel': fields[2],\n",
    "                        'bounding_box':[fields[3], fields[4], fields[5], fields[6]],\n",
    "                        'tag': fields[7],\n",
    "                        'transcript': transcript\n",
    "                    }\n",
    "                    \n",
    "                anid = annotation['anid']\n",
    "                \n",
    "                try:\n",
    "                    path = file_index[anid]\n",
    "                    _ = Image.open(path)\n",
    "                except (IOError, KeyError):\n",
    "                    print('Corrupted image for %s ' % path)\n",
    "                    continue\n",
    "\n",
    "                if not anid in file_index:\n",
    "                    print('File missing %s' % path)\n",
    "                    continue\n",
    "\n",
    "                if structure == 'words':                                \n",
    "                    anid = annotation['anid'][:-3]\n",
    "                    \n",
    "                if anid in trainset:\n",
    "                    dataset = \"train\"\n",
    "                elif anid in validationset1:\n",
    "                    dataset = \"valid1\"\n",
    "                elif anid in validationset2:\n",
    "                    dataset = \"valid2\"\n",
    "                elif anid in testset:\n",
    "                    dataset = \"test\"\n",
    "                else:\n",
    "                    dataset = \"train\"\n",
    "                \n",
    "                annotation['dataset'] = dataset\n",
    "\n",
    "                annotations.append(annotation)\n",
    "\n",
    "        path = os.path.join(root, 'annotations_'+ structure + '.json')\n",
    "\n",
    "        with open(path, 'w') as outfile:\n",
    "            json.dump({'annotations': annotations,\n",
    "                       'max_seq_length': max_seq_length},\n",
    "                      outfile)\n",
    "\n",
    "    @classmethod\n",
    "    def load_annotations(cls, root, dataset, structure):\n",
    "        path = os.path.join(root, 'annotations_'+ structure + '.json')\n",
    "\n",
    "        with open(path, \"r\") as fd:\n",
    "            content = json.load(fd)\n",
    "\n",
    "        if not len(content):\n",
    "            raise RuntimeError('Dataset empty.')\n",
    "\n",
    "        annotations = content['annotations']\n",
    "        max_seq_length = content['max_seq_length']\n",
    "\n",
    "        if \"train\" in dataset:\n",
    "            annotations = [a for a in annotations if 'train' in a['dataset']]\n",
    "        elif \"valid\" in dataset:\n",
    "            annotations = [a for a in annotations if 'valid1' in a['dataset'] or 'valid2' in a['dataset']]\n",
    "        elif \"test\" in dataset:\n",
    "            annotations = [a for a in annotations if 'test' in a['dataset']]\n",
    "        else:\n",
    "            raise RuntimeError('Dataset parameter can be: \"train\", \"valid\" or \"test\".')\n",
    "\n",
    "        return annotations, max_seq_length\n",
    "\n",
    "    @classmethod\n",
    "    def load_index(cls, root, structure):\n",
    "        extension = 'jpg' #if 'lines' in structure else '.png'\n",
    "        path = os.path.join(root, 'imgs', structure)\n",
    "                \n",
    "        files = []\n",
    "        for root, dirs, flst in os.walk(path):\n",
    "            for file in flst:\n",
    "                if file.endswith(extension):\n",
    "                    files.append(os.path.join(root, file))\n",
    "\n",
    "        index = dict([(basename(path).rstrip(\".\" + extension) , path) for path in files])\n",
    "\n",
    "        if not len(index):\n",
    "            raise RuntimeError('Image files empty.')\n",
    "        return index\n",
    "\n",
    "    def __repr__(self):\n",
    "        fmt_str = self.__class__.__name__ + '\\n'\n",
    "        fmt_str += '    Number of images found: {}\\n'.format(len(self.index))\n",
    "        fmt_str += '    Number of datapoints: {}\\n'.format(self.__len__())\n",
    "        fmt_str += '    Root Location: {}\\n'.format(self.root)\n",
    "        tmp = '    Transforms (if any): '\n",
    "        fmt_str += '{0}{1}\\n'.format(tmp, self.transform.__repr__().replace('\\n', '\\n' + ' ' * len(tmp)))\n",
    "        tmp = '    Target Transforms (if any): '\n",
    "        fmt_str += '{0}{1}'.format(tmp, self.target_transform.__repr__().replace('\\n', '\\n' + ' ' * len(tmp)))\n",
    "        return fmt_str\n",
    "    "
   ]
  },
  {
   "cell_type": "code",
   "execution_count": 11,
   "metadata": {},
   "outputs": [],
   "source": [
    "image_transform_train = transforms.Compose([\n",
    "    transforms.Pad((H.PADDING, H.PADDING, H.PADDING, H.PADDING), fill=255),\n",
    "#     DataArgumentation(threshold=H.ARGUMENTATION),\n",
    "    transforms.ToTensor(),\n",
    "])\n",
    "\n",
    "image_transform_test = transforms.Compose([\n",
    "    transforms.Pad((H.PADDING, H.PADDING, H.PADDING, H.PADDING), fill=255),\n",
    "    transforms.ToTensor(),\n",
    "])\n",
    "\n",
    "target_transform = transforms.Compose([\n",
    "    FromNumpyToTensor()\n",
    "])"
   ]
  },
  {
   "cell_type": "code",
   "execution_count": 12,
   "metadata": {},
   "outputs": [
    {
     "data": {
      "text/plain": [
       "(IAMHandwritingDataset\n",
       "     Number of images found: 13353\n",
       "     Number of datapoints: 9472\n",
       "     Root Location: ./data/IAM/\n",
       "     Transforms (if any): <torchvision.transforms.transforms.Compose object at 0x1bb416c18>\n",
       "     Target Transforms (if any): <torchvision.transforms.transforms.Compose object at 0x1bb4160f0>,\n",
       " 592)"
      ]
     },
     "execution_count": 12,
     "metadata": {},
     "output_type": "execute_result"
    }
   ],
   "source": [
    "train_dataset = IAMHandwritingDataset('./data/IAM/', vocab, dataset=\"train\", structure=\"lines\", #max_size=10000,\n",
    "                                     transform=image_transform_train, target_transform=target_transform)\n",
    "train_loader = torch.utils.data.DataLoader(\n",
    "    train_dataset, batch_size=H.BATCH_SIZE, num_workers=H.NUM_WORKERS, shuffle=True,\n",
    "    collate_fn=alignCollate(img_height=H.HEIGHT), pin_memory=True)\n",
    "\n",
    "train_dataset, len(train_loader)"
   ]
  },
  {
   "cell_type": "code",
   "execution_count": 13,
   "metadata": {},
   "outputs": [
    {
     "data": {
      "text/plain": [
       "(IAMHandwritingDataset\n",
       "     Number of images found: 13353\n",
       "     Number of datapoints: 966\n",
       "     Root Location: ./data/IAM/\n",
       "     Transforms (if any): <torchvision.transforms.transforms.Compose object at 0x1bb4167f0>\n",
       "     Target Transforms (if any): <torchvision.transforms.transforms.Compose object at 0x1bb4160f0>,\n",
       " 61)"
      ]
     },
     "execution_count": 13,
     "metadata": {},
     "output_type": "execute_result"
    }
   ],
   "source": [
    "valid_dataset = IAMHandwritingDataset('./data/IAM/', vocab, dataset=\"valid\", structure=\"lines\", #max_size=200,\n",
    "                                     transform=image_transform_test, target_transform=target_transform)\n",
    "\n",
    "valid_loader = torch.utils.data.DataLoader(\n",
    "    valid_dataset, batch_size=H.BATCH_SIZE, shuffle=False, num_workers=H.NUM_WORKERS, \n",
    "    collate_fn=alignCollate(img_height=H.HEIGHT), pin_memory=True)\n",
    "\n",
    "valid_dataset, len(valid_loader)"
   ]
  },
  {
   "cell_type": "code",
   "execution_count": 14,
   "metadata": {},
   "outputs": [
    {
     "data": {
      "text/plain": [
       "(IAMHandwritingDataset\n",
       "     Number of images found: 13353\n",
       "     Number of datapoints: 2915\n",
       "     Root Location: ./data/IAM/\n",
       "     Transforms (if any): <torchvision.transforms.transforms.Compose object at 0x1bb4167f0>\n",
       "     Target Transforms (if any): <torchvision.transforms.transforms.Compose object at 0x1bb4160f0>,\n",
       " 183)"
      ]
     },
     "execution_count": 14,
     "metadata": {},
     "output_type": "execute_result"
    }
   ],
   "source": [
    "test_dataset = IAMHandwritingDataset('./data/IAM/', vocab, dataset=\"test\", structure=\"lines\",\n",
    "                                     transform=image_transform_test, target_transform=target_transform)\n",
    "\n",
    "test_loader = torch.utils.data.DataLoader(\n",
    "    test_dataset, batch_size=H.BATCH_SIZE, shuffle=False, num_workers=H.NUM_WORKERS,\n",
    "    collate_fn=alignCollate(img_height=H.HEIGHT))\n",
    "\n",
    "test_dataset, len(test_loader)"
   ]
  },
  {
   "cell_type": "code",
   "execution_count": 15,
   "metadata": {},
   "outputs": [
    {
     "name": "stdout",
     "output_type": "stream",
     "text": [
      "torch.Size([16, 1, 64, 1259]) torch.Size([16, 63])\n"
     ]
    },
    {
     "data": {
      "application/vnd.jupyter.widget-view+json": {
       "model_id": "3bac125157bf437daeeb3bd10e7201c9",
       "version_major": 2,
       "version_minor": 0
      },
      "text/html": [
       "<p>Failed to display Jupyter Widget of type <code>interactive</code>.</p>\n",
       "<p>\n",
       "  If you're reading this message in the Jupyter Notebook or JupyterLab Notebook, it may mean\n",
       "  that the widgets JavaScript is still loading. If this message persists, it\n",
       "  likely means that the widgets JavaScript library is either not installed or\n",
       "  not enabled. See the <a href=\"https://ipywidgets.readthedocs.io/en/stable/user_install.html\">Jupyter\n",
       "  Widgets Documentation</a> for setup instructions.\n",
       "</p>\n",
       "<p>\n",
       "  If you're reading this message in another frontend (for example, a static\n",
       "  rendering on GitHub or <a href=\"https://nbviewer.jupyter.org/\">NBViewer</a>),\n",
       "  it may mean that your frontend doesn't currently support widgets.\n",
       "</p>\n"
      ],
      "text/plain": [
       "interactive(children=(IntSlider(value=7, description='idx', max=15), Output()), _dom_classes=('widget-interact',))"
      ]
     },
     "metadata": {},
     "output_type": "display_data"
    }
   ],
   "source": [
    "from ipywidgets import interact, interactive, fixed, interact_manual\n",
    "import ipywidgets as widgets\n",
    "\n",
    "input_vars, target_vars, input_sizes, target_len = next(train_loader.__iter__())\n",
    "\n",
    "print(input_vars.shape, target_vars.shape)\n",
    "\n",
    "@interact(idx=(0, H['BATCH_SIZE']-1))\n",
    "def show(idx):\n",
    "    print(input_vars[idx].shape)\n",
    "    visualize_data(input_vars[idx], target_vars[idx], vocab)"
   ]
  },
  {
   "cell_type": "code",
   "execution_count": 16,
   "metadata": {},
   "outputs": [
    {
     "data": {
      "text/plain": [
       "tensor([[55, 58,  1,  ...,  0,  0,  0],\n",
       "        [36, 59,  1,  ..., 54, 67, 57],\n",
       "        [66, 58, 54,  ...,  0,  0,  0],\n",
       "        ...,\n",
       "        [48, 67, 62,  ...,  0,  0,  0],\n",
       "        [31, 42, 41,  ...,  0,  0,  0],\n",
       "        [72, 74, 57,  ...,  0,  0,  0]])"
      ]
     },
     "execution_count": 16,
     "metadata": {},
     "output_type": "execute_result"
    }
   ],
   "source": [
    "target_vars"
   ]
  },
  {
   "cell_type": "code",
   "execution_count": 17,
   "metadata": {},
   "outputs": [],
   "source": [
    "m = Metric([('train_loss', np.inf), ('train_score', np.inf), ('valid_loss', np.inf), ('valid_score', 0), \n",
    "            ('train_lr', 0), ('valid_cer', np.inf)])\n",
    "\n",
    "crnn = CRNN(num_classes=len(vocab), hidden_size=H.HIDDEN_SIZE, num_layers=H.NUM_LAYERS, rnn_dropout=H.RNN_DROPOUT,\n",
    "            initialize=torch_weight_init)\n",
    "if H.USE_CUDA:\n",
    "    crnn.cuda()\n",
    "\n",
    "optimizer = optim.Adam(list(filter(lambda p:p.requires_grad, crnn.parameters())),\n",
    "                       amsgrad = False,\n",
    "                       betas = (0.9, 0.999),\n",
    "                       eps = 1e-08,\n",
    "                       lr = H.LR,\n",
    "                       weight_decay = H.WEIGHT_DECAY)\n",
    "\n",
    "criterion = CTCLoss()\n",
    "\n",
    "stopping = Stopping(crnn, patience= H.STOPPING_PATIENCE)\n",
    "\n",
    "scheduler = torch.optim.lr_scheduler.LambdaLR(optimizer, lr_lambda=[H.LR_LAMBDA])\n",
    "\n",
    "decoder = CTCGreedyDecoder(vocab)\n",
    "\n",
    "logger = TensorboardLogger(experiment_dir=H.EXPERIMENT) #PytorchLogger()\n",
    "\n",
    "checkpoint = Checkpoint(crnn, optimizer, stopping, m, experiment_dir=H.EXPERIMENT, checkpoint_file=H.CHECKPOINT_FILE,\n",
    "                         restore_from=-1, interval=H.CHECKPOINT_INTERVAL, verbose=0)\n",
    "\n",
    "scorer = ScorerSM()\n",
    "\n",
    "trainer = Trainer(crnn, train_loader, optimizer, scheduler, criterion, decoder)\n",
    "\n",
    "train_evaluator = Evaluator(crnn, valid_loader, criterion, decoder, scorer)"
   ]
  },
  {
   "cell_type": "code",
   "execution_count": 18,
   "metadata": {},
   "outputs": [
    {
     "data": {
      "text/plain": [
       "dict_keys(['\\x00', ' ', '!', '\"', '#', '&', \"'\", '(', ')', '*', '+', ',', '-', '.', '/', '0', '1', '2', '3', '4', '5', '6', '7', '8', '9', ':', ';', '?', 'A', 'B', 'C', 'D', 'E', 'F', 'G', 'H', 'I', 'J', 'K', 'L', 'M', 'N', 'O', 'P', 'Q', 'R', 'S', 'T', 'U', 'V', 'W', 'X', 'Y', 'Z', 'a', 'b', 'c', 'd', 'e', 'f', 'g', 'h', 'i', 'j', 'k', 'l', 'm', 'n', 'o', 'p', 'q', 'r', 's', 't', 'u', 'v', 'w', 'x', 'y', 'z'])"
      ]
     },
     "execution_count": 18,
     "metadata": {},
     "output_type": "execute_result"
    }
   ],
   "source": [
    "vocab.token2idx.keys()"
   ]
  },
  {
   "cell_type": "code",
   "execution_count": 19,
   "metadata": {},
   "outputs": [
    {
     "name": "stdout",
     "output_type": "stream",
     "text": [
      "CPU times: user 1h 38min 16s, sys: 1min 5s, total: 1h 39min 21s\n",
      "Wall time: 1h 38min 12s\n"
     ]
    }
   ],
   "source": [
    "%%time\n",
    "epoch_start = checkpoint.restore()+1 if H.CHECKPOINT_RESTORE else 1\n",
    "\n",
    "epoch_itr = logger.set_itr(range(epoch_start, H.NUM_EPOCHS+1))\n",
    "\n",
    "epoch = 0\n",
    "for epoch in epoch_itr:\n",
    "\n",
    "    with DelayedKeyboardInterrupt():\n",
    "\n",
    "        m.train_loss, m.train_lr = trainer.train(epoch, H.MAX_GRAD_NORM)\n",
    "        \n",
    "        m.valid_loss, m.valid_score, m.valid_cer = train_evaluator.evaluate()                               \n",
    "            \n",
    "        epoch_itr.log_values( m.train_loss, m.train_score, m.train_lr, m.valid_loss, m.valid_score,\n",
    "                              stopping.best_score_epoch, stopping.best_score)\n",
    "        \n",
    "        if checkpoint:\n",
    "            checkpoint.step(epoch)\n",
    "            \n",
    "        if stopping.step(epoch, 0, m.valid_score):\n",
    "            print(\"Early stopping at epoch: %d, score %f\" % (stopping.best_score_epoch, stopping.best_score))\n",
    "            break\n",
    "            \n",
    "checkpoint.create(epoch)"
   ]
  },
  {
   "cell_type": "code",
   "execution_count": 20,
   "metadata": {},
   "outputs": [
    {
     "data": {
      "text/plain": [
       "{'ARGUMENTATION': 0.9,\n",
       " 'BATCH_SIZE': 16,\n",
       " 'CHECKPOINT_FILE': 'IAM_HTR_CTC08',\n",
       " 'CHECKPOINT_INTERVAL': 5,\n",
       " 'CHECKPOINT_RESTORE': False,\n",
       " 'EXPERIMENT': 'IAM_HTR_CTC08',\n",
       " 'HEIGHT': 64,\n",
       " 'HIDDEN_SIZE': 256,\n",
       " 'LR': 0.0003,\n",
       " 'LR_LAMBDA': <function __main__.<lambda>>,\n",
       " 'MAX_GRAD_NORM': 5.0,\n",
       " 'MODEL_PATH': './chkpt/IAM_HTR_CTC08.tar',\n",
       " 'NUM_EPOCHS': 20,\n",
       " 'NUM_LAYERS': 2,\n",
       " 'NUM_WORKERS': 8,\n",
       " 'PADDING': 10,\n",
       " 'RNN_DROPOUT': 0.5,\n",
       " 'ROOT_DIR': './data',\n",
       " 'STOPPING_PATIENCE': 10,\n",
       " 'USE_CUDA': True,\n",
       " 'WEIGHT_DECAY': 0}"
      ]
     },
     "metadata": {},
     "output_type": "display_data"
    },
    {
     "name": "stdout",
     "output_type": "stream",
     "text": [
      "TensorboardLogger\n",
      "    Last Epoch/LR:    20 / 0.000234\n",
      "    Train Loss/Score: 8.890155523612693 / inf\n",
      "    Valid Loss/Score: 9.35405035683366 / 0.9572857934714726\n",
      "    Best Epoch/Score: 18 / 0.9566100093689708\n",
      "\n",
      "Stopping\n",
      "    Patience: 10\n",
      "    Best Score: 0.9573\n",
      "    Epoch of Best Score: 20\n",
      "\n",
      "Checkpoint\n",
      "    Timestamp: 2019_02_05_16_54_46\n",
      "    Last Checkpoint: chkpt/IAM_HTR_CTC08/2019_02_05_16_54_46/state.tar\n",
      "\n"
     ]
    },
    {
     "data": {
      "image/png": "[encoded data removed]",
      "text/plain": [
       "<matplotlib.figure.Figure at 0x1bc2ef048>"
      ]
     },
     "metadata": {},
     "output_type": "display_data"
    }
   ],
   "source": [
    "display(H)\n",
    "print(logger)\n",
    "print(stopping)\n",
    "print(checkpoint)\n",
    "plot_learning_curves(m)"
   ]
  },
  {
   "cell_type": "code",
   "execution_count": 21,
   "metadata": {},
   "outputs": [],
   "source": [
    "crnn.load_state_dict(stopping.best_score_state)\n",
    "torch.save(crnn.state_dict(), H.MODEL_PATH)"
   ]
  },
  {
   "cell_type": "code",
   "execution_count": 22,
   "metadata": {},
   "outputs": [],
   "source": [
    "from nltk.translate.bleu_score import sentence_bleu\n",
    "import Levenshtein as lev\n",
    "\n",
    "class Scorer(object):\n",
    "    def __init__(self):\n",
    "        pass\n",
    "    \n",
    "    @staticmethod\n",
    "    def wer(s1, s2):\n",
    "        b = set(s1.split() + s2.split())\n",
    "        word2char = dict(zip(b, range(len(b))))\n",
    "\n",
    "        w1 = [chr(word2char[w]) for w in s1.split()]\n",
    "        w2 = [chr(word2char[w]) for w in s2.split()]\n",
    "        return lev.distance(''.join(w1), ''.join(w2)) \n",
    "\n",
    "    @staticmethod\n",
    "    def cer(s1, s2):\n",
    "        s1, s2, = s1.replace(' ', ''), s2.replace(' ', '')\n",
    "        return lev.distance(s1, s2) \n",
    "    \n",
    "    def score(self,predicted_vars, target_vars):\n",
    "        idx, acc, cer = 0, 0.0, 0.0\n",
    "        for idx, (dseq, tseq) in enumerate(zip(predicted_vars, target_vars)):\n",
    "#           acc = acc + 1 if dseq == tseq else acc\n",
    "#             acc += fuzz.ratio(tseq, dseq)\n",
    "#             acc += SequenceMatcher(None, dseq, tseq).ratio()\n",
    "#             acc += sentence_bleu([tseq], dseq, emulate_multibleu=True)\n",
    "            acc += self.wer(dseq, tseq) / float(len(tseq.split()))\n",
    "            cer += self.cer(dseq, tseq) / float(len(tseq))\n",
    "\n",
    "        return (acc / (idx + 1)), cer / (idx + 1)\n",
    "    \n",
    "scorer = Scorer()"
   ]
  },
  {
   "cell_type": "code",
   "execution_count": 23,
   "metadata": {},
   "outputs": [],
   "source": [
    "crnn_pred = CRNN(num_classes=len(vocab), hidden_size=H.HIDDEN_SIZE, num_layers=H.NUM_LAYERS, rnn_dropout=H.RNN_DROPOUT,\n",
    "                 initialize=torch_weight_init)\n",
    "if H.USE_CUDA:\n",
    "    crnn_pred.cuda()\n",
    "\n",
    "state = torch.load(H.MODEL_PATH)\n",
    "crnn_pred.load_state_dict(state)"
   ]
  },
  {
   "cell_type": "code",
   "execution_count": 24,
   "metadata": {},
   "outputs": [
    {
     "name": "stdout",
     "output_type": "stream",
     "text": [
      "Test Results:\n",
      "     Loss:           16.3392\n",
      "     Accuracy:       0.2523\n",
      "     CER:            0.0703\n",
      "CPU times: user 24.3 s, sys: 538 ms, total: 24.9 s\n",
      "Wall time: 25 s\n"
     ]
    }
   ],
   "source": [
    "%%time\n",
    "decoder = CTCGreedyDecoder(vocab)\n",
    "\n",
    "test_evaluator = Evaluator(crnn_pred, test_loader, criterion, decoder, scorer)\n",
    "\n",
    "avg_loss, avg_score, avg_cer = test_evaluator.evaluate()\n",
    "\n",
    "print('Test Results:')\n",
    "print('     Loss:           {:.4f}'.format(avg_loss))\n",
    "print('     Accuracy:       {:.4f}'.format(avg_score))\n",
    "print('     CER:            {:.4f}'.format(avg_cer))"
   ]
  },
  {
   "cell_type": "code",
   "execution_count": 28,
   "metadata": {
    "scrolled": false
   },
   "outputs": [
    {
     "data": {
      "text/plain": [
       "2335"
      ]
     },
     "execution_count": 28,
     "metadata": {},
     "output_type": "execute_result"
    }
   ],
   "source": [
    "crnn_pred.eval()\n",
    "with torch.no_grad():\n",
    "    idx_batch = 0\n",
    "    bad_lines = []\n",
    "    for idx_batch,(input_vars, target_vars, input_size, target_size) in enumerate(test_loader):\n",
    "        input_vars = Variable(input_vars)\n",
    "        if H.USE_CUDA:\n",
    "            input_vars = input_vars.cuda()\n",
    "\n",
    "        preds = crnn_pred(input_vars)\n",
    "        preds = preds.transpose(1,0)\n",
    "        preds_size = torch.IntTensor(preds.size(1)).fill_(preds.size(0))\n",
    "\n",
    "        decoder_seq, target_seq = decoder(preds, target_vars, preds_size, target_size)\n",
    "\n",
    "        for idx, (dseq, tseq) in enumerate(zip(decoder_seq, target_seq)):\n",
    "            if dseq != tseq:\n",
    "                bad_lines.append((input_vars[idx], dseq, tseq))\n",
    "                    \n",
    "len(bad_lines)"
   ]
  },
  {
   "cell_type": "code",
   "execution_count": 29,
   "metadata": {},
   "outputs": [
    {
     "name": "stdout",
     "output_type": "stream",
     "text": [
      "92 5\n"
     ]
    },
    {
     "data": {
      "image/png": "[encoded data removed]",
      "text/plain": [
       "<matplotlib.figure.Figure at 0x1bca8a940>"
      ]
     },
     "metadata": {},
     "output_type": "display_data"
    }
   ],
   "source": [
    "import matplotlib.mlab as mlab\n",
    "\n",
    "line_len = sorted([len(l[1]) for l in bad_lines], reverse=True)\n",
    "print(max(line_len), min(line_len))\n",
    "\n",
    "if max(line_len):\n",
    "    fig = plt.figure(figsize=(15, 6))\n",
    "    ax = fig.add_subplot(1, 1, 1)\n",
    "    ax.set_xticks(range(1, max(line_len)))\n",
    "\n",
    "    ax = plt.hist(line_len, bins=range(1, max(line_len)))\n",
    "\n",
    "    plt.xlabel('Length')\n",
    "    plt.ylabel('Frequency')\n",
    "    plt.title(\"Bad Line Length Distribution\")\n",
    "    plt.xticks(rotation=90)\n",
    "    plt.grid(True)"
   ]
  },
  {
   "cell_type": "code",
   "execution_count": 30,
   "metadata": {},
   "outputs": [
    {
     "data": {
      "application/vnd.jupyter.widget-view+json": {
       "model_id": "8fb32afd61874afe8a1d83b3f474cbea",
       "version_major": 2,
       "version_minor": 0
      },
      "text/html": [
       "<p>Failed to display Jupyter Widget of type <code>interactive</code>.</p>\n",
       "<p>\n",
       "  If you're reading this message in the Jupyter Notebook or JupyterLab Notebook, it may mean\n",
       "  that the widgets JavaScript is still loading. If this message persists, it\n",
       "  likely means that the widgets JavaScript library is either not installed or\n",
       "  not enabled. See the <a href=\"https://ipywidgets.readthedocs.io/en/stable/user_install.html\">Jupyter\n",
       "  Widgets Documentation</a> for setup instructions.\n",
       "</p>\n",
       "<p>\n",
       "  If you're reading this message in another frontend (for example, a static\n",
       "  rendering on GitHub or <a href=\"https://nbviewer.jupyter.org/\">NBViewer</a>),\n",
       "  it may mean that your frontend doesn't currently support widgets.\n",
       "</p>\n"
      ],
      "text/plain": [
       "interactive(children=(IntSlider(value=1167, description='idx', max=2335), Output()), _dom_classes=('widget-interact',))"
      ]
     },
     "metadata": {},
     "output_type": "display_data"
    }
   ],
   "source": [
    "from ipywidgets import interact, interactive, fixed, interact_manual\n",
    "import ipywidgets as widgets\n",
    "\n",
    "@interact(idx=(0, len(bad_lines)))\n",
    "def show(idx):\n",
    "    img = bad_lines[idx][0]\n",
    "    dseq = bad_lines[idx][1]\n",
    "    tseq = bad_lines[idx][2]\n",
    "    visualize_data(img, tseq + \"==\" + dseq + \"=\" + str(tseq==dseq), vocab, figsize=(18,8))"
   ]
  }
 ],
 "metadata": {
  "kernelspec": {
   "display_name": "Python 3",
   "language": "python",
   "name": "python3"
  },
  "language_info": {
   "codemirror_mode": {
    "name": "ipython",
    "version": 3
   },
   "file_extension": ".py",
   "mimetype": "text/x-python",
   "name": "python",
   "nbconvert_exporter": "python",
   "pygments_lexer": "ipython3",
   "version": "3.6.4"
  }
 },
 "nbformat": 4,
 "nbformat_minor": 2
}
